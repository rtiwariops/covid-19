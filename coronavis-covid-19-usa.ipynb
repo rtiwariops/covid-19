{
 "cells": [
  {
   "cell_type": "code",
   "execution_count": 44,
   "metadata": {},
   "outputs": [],
   "source": [
    "import json\n",
    "import pandas\n",
    "import plotly.express as px\n",
    "import plotly.figure_factory as ff\n",
    "import plotly.graph_objects as go\n",
    "import requests\n",
    "import sys\n",
    "import urlopen"
   ]
  },
  {
   "cell_type": "code",
   "execution_count": 45,
   "metadata": {},
   "outputs": [
    {
     "name": "stdout",
     "output_type": "stream",
     "text": [
      "Python: 3.7.6 (default, Dec 30 2019, 19:38:26) \n",
      "[Clang 11.0.0 (clang-1100.0.33.16)]\n",
      "Pandas: 1.0.3\n"
     ]
    }
   ],
   "source": [
    "## Verifying Packages & Versions\n",
    "print('Python: {}'.format(sys.version))\n",
    "print('Pandas: {}'.format(pandas.__version__))"
   ]
  },
  {
   "cell_type": "code",
   "execution_count": 79,
   "metadata": {},
   "outputs": [],
   "source": [
    "# Get mapbox token & style\n",
    "mapbox_access_token = \"pk.eyJ1IjoicGxvdGx5bWFwYm94IiwiYSI6ImNqdnBvNDMyaTAxYzkzeW5ubWdpZ2VjbmMifQ.TXcBE-xg9BFdV2ocecc_7g\"\n",
    "mapbox_style = \"mapbox://styles/plotlymapbox/cjvprkf3t1kns1cqjxuxmwixz\"\n",
    "\n",
    "# Read data from an API\n",
    "response = requests.get(url=\"https://api.covid19api.com/live/country/US/status/confirmed\")"
   ]
  },
  {
   "cell_type": "code",
   "execution_count": null,
   "metadata": {},
   "outputs": [],
   "source": []
  },
  {
   "cell_type": "code",
   "execution_count": 171,
   "metadata": {},
   "outputs": [
    {
     "name": "stdout",
     "output_type": "stream",
     "text": [
      "[('United States Virgin Islands', 3), ('South Dakota', 14), ('Mississippi', 80), ('Guam', 14), ('Alaska', 12), ('Maine', 56), ('Minnesota', 115), ('Rhode Island', 54), ('Oklahoma', 49), ('Grand Princess', 23), ('Iowa', 45), ('Diamond Princess', 49), ('Illinois', 585), ('New Jersey', 890), ('Oregon', 114), ('Nebraska', 37), ('New Mexico', 43), ('Vermont', 29), ('Puerto Rico', 14), ('US', 1), ('Washington', 1524), ('Colorado', 363), ('Massachusetts', 413), ('New Hampshire', 55), ('Utah', 112), ('North Dakota', 26), ('Alabama', 106), ('Connecticut', 194), ('District of Columbia', 77), ('Wyoming', 21), ('Arkansas', 100), ('Kentucky', 64), ('Nevada', 161), ('Florida', 563), ('Idaho', 36), ('Ohio', 174), ('Texas', 429), ('Montana', 20), ('Pennsylvania', 311), ('Georgia', 485), ('Hawaii', 37), ('Kansas', 48), ('Delaware', 39), ('Missouri', 66), ('West Virginia', 8), ('South Carolina', 126), ('Virginia', 125), ('Wisconsin', 220), ('Maryland', 190), ('Arizona', 79), ('California', 1249), ('Indiana', 127), ('Tennessee', 265), ('Louisiana', 585), ('North Carolina', 230), ('New York', 8522), ('Michigan', 554), ('Mississippi', 140), ('California', 1267), ('Florida', 659), ('Minnesota', 136), ('Texas', 434), ('Pennsylvania', 314), ('Georgia', 496), ('Oregon', 114), ('North Carolina', 241), ('Tennessee', 300), ('New York', 10356), ('Alabama', 124), ('Iowa', 46), ('Guam', 15), ('Alaska', 14), ('California', 1268), ('Oklahoma', 53), ('Wyoming', 22), ('Minnesota', 138), ('Montana', 21), ('Pennsylvania', 374), ('Georgia', 507), ('Puerto Rico', 21), ('Nebraska', 38), ('Kansas', 50), ('Arizona', 108), ('United States Virgin Islands', 6), ('Missouri', 74), ('New York', 11645), ('California', 1282), ('Wyoming', 23), ('Delaware', 40), ('North Carolina', 242), ('Michigan', 568), ('Iowa', 68), ('Virginia', 156), ('Rhode Island', 66), ('California', 1283), ('Indiana', 128), ('New Jersey', 1327), ('US', 1), ('Ohio', 248), ('Minnesota', 138), ('Texas', 487), ('Pennsylvania', 394), ('Puerto Rico', 21), ('New York', 11710), ('Michigan', 788), ('California', 1364), ('Washington', 1793), ('Utah', 136), ('South Carolina', 171), ('Arkansas', 122), ('Kentucky', 87), ('Texas', 581), ('Pennsylvania', 396), ('Arizona', 118), ('Delaware', 45), ('North Carolina', 253), ('Tennessee', 371), ('Alabama', 131), ('Alaska', 15), ('Illinois', 753), ('Wisconsin', 282), ('Indiana', 128), ('Colorado', 390), ('Florida', 659), ('Maine', 70), ('Maryland', 193), ('Massachusetts', 525), ('North Dakota', 28), ('Oregon', 114), ('Kansas', 57), ('US', 1), ('New York', 12312), ('California', 1407), ('Connecticut', 223), ('Nevada', 154), ('Colorado', 475), ('Florida', 763), ('Massachusetts', 529), ('Texas', 543), ('Minnesota', 137), ('Pennsylvania', 399), ('Georgia', 555), ('Oregon', 137), ('Louisiana', 763), ('North Carolina', 257), ('South Carolina', 174), ('Michigan', 789), ('North Carolina', 261), ('West Virginia', 12), ('Missouri', 81), ('Vermont', 49), ('New York', 12315), ('Iowa', 69), ('Michigan', 790), ('District of Columbia', 98), ('Alaska', 14), ('Nevada', 157), ('California', 1470), ('Idaho', 42), ('Texas', 554), ('Montana', 30), ('Hawaii', 48), ('New Hampshire', 65), ('New Mexico', 57), ('Arizona', 104), ('Massachusetts', 529), ('Maryland', 244), ('Texas', 557), ('Pennsylvania', 405), ('Puerto Rico', 23), ('Virginia', 159), ('Connecticut', 223), ('Missouri', 86), ('Indiana', 201), ('Oregon', 137), ('North Carolina', 283), ('New York', 12323), ('Grand Princess', 30), ('Michigan', 809), ('California', 1518), ('Kansas', 58), ('Ohio', 250), ('Guam', 15), ('Alaska', 21), ('New York', 15168), ('Virginia', 221), ('Mississippi', 207), ('California', 1547), ('Colorado', 476), ('Tennessee', 374), ('Florida', 830), ('Texas', 566), ('Pennsylvania', 481), ('Georgia', 600), ('Louisiana', 837), ('North Carolina', 286), ('Arizona', 152), ('Delaware', 47), ('Iowa', 75), ('Alabama', 138), ('Guam', 27), ('District of Columbia', 102), ('Kentucky', 99), ('Oklahoma', 67), ('Maine', 89), ('Minnesota', 169), ('New York', 15783), ('Wyoming', 24), ('Rhode Island', 83), ('Wisconsin', 322), ('California', 1554), ('Indiana', 201), ('Arkansas', 165), ('Nevada', 190), ('Tennessee', 374), ('Ohio', 352), ('Texas', 616), ('New Jersey', 1914), ('Oregon', 140), ('Arizona', 152), ('Utah', 136), ('North Carolina', 295), ('Missouri', 96), ('New York', 15777), ('Michigan', 899), ('Iowa', 90), ('Vermont', 52), ('South Dakota', 21), ('Montana', 31), ('Nebraska', 51), ('Utah', 141), ('North Carolina', 300), ('Missouri', 100), ('Michigan', 1058), ('Illinois', 1049), ('Wisconsin', 381), ('California', 1560), ('Indiana', 201), ('Tennessee', 376), ('US', 1), ('Texas', 618), ('Oregon', 161), ('Michigan', 1037), ('California', 1585), ('California', 1642), ('New York', 15793), ('Illinois', 1049), ('Utah', 181), ('North Carolina', 302), ('South Carolina', 196), ('Virginia', 221), ('District of Columbia', 102), ('Tennessee', 505), ('Massachusetts', 646), ('Texas', 627), ('Ohio', 355), ('Pennsylvania', 509), ('Kansas', 64), ('Washington', 1996)]\n"
     ]
    }
   ],
   "source": [
    "latitude = [d['Lat'] for d in response.json() if 'Lat' in d]\n",
    "longitude = [d['Lon'] for d in response.json() if 'Lon' in d]\n",
    "province = [d['Province'] for d in response.json() if 'Province' in d]\n",
    "confirmed = [d['Cases'] for d in response.json() if 'Cases' in d]\n",
    "datavalues = list(zip(province, confirmed))"
   ]
  },
  {
   "cell_type": "code",
   "execution_count": 172,
   "metadata": {},
   "outputs": [],
   "source": [
    "colorscale = [\"#f2fffb\",\n",
    "    \"#bbffeb\",\n",
    "    \"#98ffe0\",\n",
    "    \"#79ffd6\",\n",
    "    \"#6df0c8\",\n",
    "    \"#69e7c0\",\n",
    "    \"#59dab2\",\n",
    "    \"#45d0a5\",\n",
    "    \"#31c194\",\n",
    "    \"#2bb489\",\n",
    "    \"#25a27b\",\n",
    "    \"#1e906d\",\n",
    "    \"#188463\",\n",
    "    \"#157658\",\n",
    "    \"#11684d\",\n",
    "    \"#10523e\"]\n",
    "fig = go.Figure(go.Scattermapbox(\n",
    "        lat=latitude,\n",
    "        lon=longitude,\n",
    "        mode='markers',\n",
    "        text=datavalues,\n",
    "    )\n",
    ")"
   ]
  },
  {
   "cell_type": "code",
   "execution_count": 173,
   "metadata": {},
   "outputs": [
    {
     "data": {
      "application/vnd.plotly.v1+json": {
       "config": {
        "plotlyServerURL": "https://plot.ly"
       },
       "data": [
        {
         "lat": [
          18.3358,
          44.2998,
          32.7416,
          13.4443,
          61.3707,
          44.6939,
          45.6945,
          41.6809,
          35.5653,
          37.6489,
          42.0115,
          35.4437,
          40.3495,
          40.2989,
          44.572,
          41.1254,
          34.8405,
          44.0459,
          18.2208,
          37.0902,
          47.4009,
          39.0598,
          42.2302,
          43.4525,
          40.15,
          47.5289,
          32.3182,
          41.5978,
          38.8974,
          42.756,
          34.9697,
          37.6681,
          38.3135,
          27.7663,
          44.2405,
          40.3888,
          31.0545,
          46.9219,
          40.5908,
          33.0406,
          21.0943,
          38.5266,
          39.3185,
          38.4561,
          38.4912,
          33.8569,
          37.7693,
          44.2685,
          39.0639,
          33.7298,
          36.1162,
          39.8494,
          35.7478,
          31.1695,
          35.6301,
          42.1657,
          43.3266,
          32.7416,
          36.1162,
          27.7663,
          45.6945,
          31.0545,
          40.5908,
          33.0406,
          44.572,
          35.6301,
          35.7478,
          42.1657,
          32.3182,
          42.0115,
          13.4443,
          61.3707,
          36.1162,
          35.5653,
          42.756,
          45.6945,
          46.9219,
          40.5908,
          33.0406,
          18.2208,
          41.1254,
          38.5266,
          33.7298,
          18.3358,
          38.4561,
          42.1657,
          36.1162,
          42.756,
          39.3185,
          35.6301,
          43.3266,
          42.0115,
          37.7693,
          41.6809,
          36.1162,
          39.8494,
          40.2989,
          37.0902,
          40.3888,
          45.6945,
          31.0545,
          40.5908,
          18.2208,
          42.1657,
          43.3266,
          36.1162,
          47.4009,
          40.15,
          33.8569,
          34.9697,
          37.6681,
          31.0545,
          40.5908,
          33.7298,
          39.3185,
          35.6301,
          35.7478,
          32.3182,
          61.3707,
          40.3495,
          44.2685,
          39.8494,
          39.0598,
          27.7663,
          44.6939,
          39.0639,
          42.2302,
          47.5289,
          44.572,
          38.5266,
          37.0902,
          42.1657,
          36.1162,
          41.5978,
          38.3135,
          39.0598,
          27.7663,
          42.2302,
          31.0545,
          45.6945,
          40.5908,
          33.0406,
          44.572,
          31.1695,
          35.6301,
          33.8569,
          43.3266,
          35.6301,
          38.4912,
          38.4561,
          44.0459,
          42.1657,
          42.0115,
          43.3266,
          38.8974,
          61.3707,
          38.3135,
          36.1162,
          44.2405,
          31.0545,
          46.9219,
          21.0943,
          43.4525,
          34.8405,
          33.7298,
          42.2302,
          39.0639,
          31.0545,
          40.5908,
          18.2208,
          37.7693,
          41.5978,
          38.4561,
          39.8494,
          44.572,
          35.6301,
          42.1657,
          37.6489,
          43.3266,
          36.1162,
          38.5266,
          40.3888,
          13.4443,
          61.3707,
          42.1657,
          37.7693,
          32.7416,
          36.1162,
          39.0598,
          35.7478,
          27.7663,
          31.0545,
          40.5908,
          33.0406,
          31.1695,
          35.6301,
          33.7298,
          39.3185,
          42.0115,
          32.3182,
          13.4443,
          38.8974,
          37.6681,
          35.5653,
          44.6939,
          45.6945,
          42.1657,
          42.756,
          41.6809,
          44.2685,
          36.1162,
          39.8494,
          34.9697,
          38.3135,
          35.7478,
          40.3888,
          31.0545,
          40.2989,
          44.572,
          33.7298,
          40.15,
          35.6301,
          38.4561,
          42.1657,
          43.3266,
          42.0115,
          44.0459,
          44.2998,
          46.9219,
          41.1254,
          40.15,
          35.6301,
          38.4561,
          43.3266,
          40.3495,
          44.2685,
          36.1162,
          39.8494,
          35.7478,
          37.0902,
          31.0545,
          44.572,
          43.3266,
          36.1162,
          36.1162,
          42.1657,
          40.3495,
          40.15,
          35.6301,
          33.8569,
          37.7693,
          38.8974,
          35.7478,
          42.2302,
          31.0545,
          40.3888,
          40.5908,
          38.5266,
          47.4009
         ],
         "lon": [
          -64.8963,
          -99.4388,
          -89.6787,
          144.794,
          -152.404,
          -69.3819,
          -93.9002,
          -71.5118,
          -96.9289,
          -122.665,
          -93.2105,
          139.638,
          -88.9861,
          -74.521,
          -122.071,
          -98.2681,
          -106.248,
          -72.7107,
          -66.5901,
          -95.7129,
          -121.49,
          -105.311,
          -71.5301,
          -71.5639,
          -111.862,
          -99.784,
          -86.9023,
          -72.7554,
          -77.0268,
          -107.302,
          -92.3731,
          -84.6701,
          -117.055,
          -81.6868,
          -114.479,
          -82.7649,
          -97.5635,
          -110.454,
          -77.2098,
          -83.6431,
          -157.498,
          -96.7265,
          -75.5071,
          -92.2884,
          -80.9545,
          -80.945,
          -78.17,
          -89.6165,
          -76.8021,
          -111.431,
          -119.682,
          -86.2583,
          -86.6923,
          -91.8678,
          -79.8064,
          -74.9481,
          -84.5361,
          -89.6787,
          -119.682,
          -81.6868,
          -93.9002,
          -97.5635,
          -77.2098,
          -83.6431,
          -122.071,
          -79.8064,
          -86.6923,
          -74.9481,
          -86.9023,
          -93.2105,
          144.794,
          -152.404,
          -119.682,
          -96.9289,
          -107.302,
          -93.9002,
          -110.454,
          -77.2098,
          -83.6431,
          -66.5901,
          -98.2681,
          -96.7265,
          -111.431,
          -64.8963,
          -92.2884,
          -74.9481,
          -119.682,
          -107.302,
          -75.5071,
          -79.8064,
          -84.5361,
          -93.2105,
          -78.17,
          -71.5118,
          -119.682,
          -86.2583,
          -74.521,
          -95.7129,
          -82.7649,
          -93.9002,
          -97.5635,
          -77.2098,
          -66.5901,
          -74.9481,
          -84.5361,
          -119.682,
          -121.49,
          -111.862,
          -80.945,
          -92.3731,
          -84.6701,
          -97.5635,
          -77.2098,
          -111.431,
          -75.5071,
          -79.8064,
          -86.6923,
          -86.9023,
          -152.404,
          -88.9861,
          -89.6165,
          -86.2583,
          -105.311,
          -81.6868,
          -69.3819,
          -76.8021,
          -71.5301,
          -99.784,
          -122.071,
          -96.7265,
          -95.7129,
          -74.9481,
          -119.682,
          -72.7554,
          -117.055,
          -105.311,
          -81.6868,
          -71.5301,
          -97.5635,
          -93.9002,
          -77.2098,
          -83.6431,
          -122.071,
          -91.8678,
          -79.8064,
          -80.945,
          -84.5361,
          -79.8064,
          -80.9545,
          -92.2884,
          -72.7107,
          -74.9481,
          -93.2105,
          -84.5361,
          -77.0268,
          -152.404,
          -117.055,
          -119.682,
          -114.479,
          -97.5635,
          -110.454,
          -157.498,
          -71.5639,
          -106.248,
          -111.431,
          -71.5301,
          -76.8021,
          -97.5635,
          -77.2098,
          -66.5901,
          -78.17,
          -72.7554,
          -92.2884,
          -86.2583,
          -122.071,
          -79.8064,
          -74.9481,
          -122.665,
          -84.5361,
          -119.682,
          -96.7265,
          -82.7649,
          144.794,
          -152.404,
          -74.9481,
          -78.17,
          -89.6787,
          -119.682,
          -105.311,
          -86.6923,
          -81.6868,
          -97.5635,
          -77.2098,
          -83.6431,
          -91.8678,
          -79.8064,
          -111.431,
          -75.5071,
          -93.2105,
          -86.9023,
          144.794,
          -77.0268,
          -84.6701,
          -96.9289,
          -69.3819,
          -93.9002,
          -74.9481,
          -107.302,
          -71.5118,
          -89.6165,
          -119.682,
          -86.2583,
          -92.3731,
          -117.055,
          -86.6923,
          -82.7649,
          -97.5635,
          -74.521,
          -122.071,
          -111.431,
          -111.862,
          -79.8064,
          -92.2884,
          -74.9481,
          -84.5361,
          -93.2105,
          -72.7107,
          -99.4388,
          -110.454,
          -98.2681,
          -111.862,
          -79.8064,
          -92.2884,
          -84.5361,
          -88.9861,
          -89.6165,
          -119.682,
          -86.2583,
          -86.6923,
          -95.7129,
          -97.5635,
          -122.071,
          -84.5361,
          -119.682,
          -119.682,
          -74.9481,
          -88.9861,
          -111.862,
          -79.8064,
          -80.945,
          -78.17,
          -77.0268,
          -86.6923,
          -71.5301,
          -97.5635,
          -82.7649,
          -77.2098,
          -96.7265,
          -121.49
         ],
         "mode": "markers",
         "text": [
          "('United States Virgin Islands', 3)",
          "('South Dakota', 14)",
          "('Mississippi', 80)",
          "('Guam', 14)",
          "('Alaska', 12)",
          "('Maine', 56)",
          "('Minnesota', 115)",
          "('Rhode Island', 54)",
          "('Oklahoma', 49)",
          "('Grand Princess', 23)",
          "('Iowa', 45)",
          "('Diamond Princess', 49)",
          "('Illinois', 585)",
          "('New Jersey', 890)",
          "('Oregon', 114)",
          "('Nebraska', 37)",
          "('New Mexico', 43)",
          "('Vermont', 29)",
          "('Puerto Rico', 14)",
          "('US', 1)",
          "('Washington', 1524)",
          "('Colorado', 363)",
          "('Massachusetts', 413)",
          "('New Hampshire', 55)",
          "('Utah', 112)",
          "('North Dakota', 26)",
          "('Alabama', 106)",
          "('Connecticut', 194)",
          "('District of Columbia', 77)",
          "('Wyoming', 21)",
          "('Arkansas', 100)",
          "('Kentucky', 64)",
          "('Nevada', 161)",
          "('Florida', 563)",
          "('Idaho', 36)",
          "('Ohio', 174)",
          "('Texas', 429)",
          "('Montana', 20)",
          "('Pennsylvania', 311)",
          "('Georgia', 485)",
          "('Hawaii', 37)",
          "('Kansas', 48)",
          "('Delaware', 39)",
          "('Missouri', 66)",
          "('West Virginia', 8)",
          "('South Carolina', 126)",
          "('Virginia', 125)",
          "('Wisconsin', 220)",
          "('Maryland', 190)",
          "('Arizona', 79)",
          "('California', 1249)",
          "('Indiana', 127)",
          "('Tennessee', 265)",
          "('Louisiana', 585)",
          "('North Carolina', 230)",
          "('New York', 8522)",
          "('Michigan', 554)",
          "('Mississippi', 140)",
          "('California', 1267)",
          "('Florida', 659)",
          "('Minnesota', 136)",
          "('Texas', 434)",
          "('Pennsylvania', 314)",
          "('Georgia', 496)",
          "('Oregon', 114)",
          "('North Carolina', 241)",
          "('Tennessee', 300)",
          "('New York', 10356)",
          "('Alabama', 124)",
          "('Iowa', 46)",
          "('Guam', 15)",
          "('Alaska', 14)",
          "('California', 1268)",
          "('Oklahoma', 53)",
          "('Wyoming', 22)",
          "('Minnesota', 138)",
          "('Montana', 21)",
          "('Pennsylvania', 374)",
          "('Georgia', 507)",
          "('Puerto Rico', 21)",
          "('Nebraska', 38)",
          "('Kansas', 50)",
          "('Arizona', 108)",
          "('United States Virgin Islands', 6)",
          "('Missouri', 74)",
          "('New York', 11645)",
          "('California', 1282)",
          "('Wyoming', 23)",
          "('Delaware', 40)",
          "('North Carolina', 242)",
          "('Michigan', 568)",
          "('Iowa', 68)",
          "('Virginia', 156)",
          "('Rhode Island', 66)",
          "('California', 1283)",
          "('Indiana', 128)",
          "('New Jersey', 1327)",
          "('US', 1)",
          "('Ohio', 248)",
          "('Minnesota', 138)",
          "('Texas', 487)",
          "('Pennsylvania', 394)",
          "('Puerto Rico', 21)",
          "('New York', 11710)",
          "('Michigan', 788)",
          "('California', 1364)",
          "('Washington', 1793)",
          "('Utah', 136)",
          "('South Carolina', 171)",
          "('Arkansas', 122)",
          "('Kentucky', 87)",
          "('Texas', 581)",
          "('Pennsylvania', 396)",
          "('Arizona', 118)",
          "('Delaware', 45)",
          "('North Carolina', 253)",
          "('Tennessee', 371)",
          "('Alabama', 131)",
          "('Alaska', 15)",
          "('Illinois', 753)",
          "('Wisconsin', 282)",
          "('Indiana', 128)",
          "('Colorado', 390)",
          "('Florida', 659)",
          "('Maine', 70)",
          "('Maryland', 193)",
          "('Massachusetts', 525)",
          "('North Dakota', 28)",
          "('Oregon', 114)",
          "('Kansas', 57)",
          "('US', 1)",
          "('New York', 12312)",
          "('California', 1407)",
          "('Connecticut', 223)",
          "('Nevada', 154)",
          "('Colorado', 475)",
          "('Florida', 763)",
          "('Massachusetts', 529)",
          "('Texas', 543)",
          "('Minnesota', 137)",
          "('Pennsylvania', 399)",
          "('Georgia', 555)",
          "('Oregon', 137)",
          "('Louisiana', 763)",
          "('North Carolina', 257)",
          "('South Carolina', 174)",
          "('Michigan', 789)",
          "('North Carolina', 261)",
          "('West Virginia', 12)",
          "('Missouri', 81)",
          "('Vermont', 49)",
          "('New York', 12315)",
          "('Iowa', 69)",
          "('Michigan', 790)",
          "('District of Columbia', 98)",
          "('Alaska', 14)",
          "('Nevada', 157)",
          "('California', 1470)",
          "('Idaho', 42)",
          "('Texas', 554)",
          "('Montana', 30)",
          "('Hawaii', 48)",
          "('New Hampshire', 65)",
          "('New Mexico', 57)",
          "('Arizona', 104)",
          "('Massachusetts', 529)",
          "('Maryland', 244)",
          "('Texas', 557)",
          "('Pennsylvania', 405)",
          "('Puerto Rico', 23)",
          "('Virginia', 159)",
          "('Connecticut', 223)",
          "('Missouri', 86)",
          "('Indiana', 201)",
          "('Oregon', 137)",
          "('North Carolina', 283)",
          "('New York', 12323)",
          "('Grand Princess', 30)",
          "('Michigan', 809)",
          "('California', 1518)",
          "('Kansas', 58)",
          "('Ohio', 250)",
          "('Guam', 15)",
          "('Alaska', 21)",
          "('New York', 15168)",
          "('Virginia', 221)",
          "('Mississippi', 207)",
          "('California', 1547)",
          "('Colorado', 476)",
          "('Tennessee', 374)",
          "('Florida', 830)",
          "('Texas', 566)",
          "('Pennsylvania', 481)",
          "('Georgia', 600)",
          "('Louisiana', 837)",
          "('North Carolina', 286)",
          "('Arizona', 152)",
          "('Delaware', 47)",
          "('Iowa', 75)",
          "('Alabama', 138)",
          "('Guam', 27)",
          "('District of Columbia', 102)",
          "('Kentucky', 99)",
          "('Oklahoma', 67)",
          "('Maine', 89)",
          "('Minnesota', 169)",
          "('New York', 15783)",
          "('Wyoming', 24)",
          "('Rhode Island', 83)",
          "('Wisconsin', 322)",
          "('California', 1554)",
          "('Indiana', 201)",
          "('Arkansas', 165)",
          "('Nevada', 190)",
          "('Tennessee', 374)",
          "('Ohio', 352)",
          "('Texas', 616)",
          "('New Jersey', 1914)",
          "('Oregon', 140)",
          "('Arizona', 152)",
          "('Utah', 136)",
          "('North Carolina', 295)",
          "('Missouri', 96)",
          "('New York', 15777)",
          "('Michigan', 899)",
          "('Iowa', 90)",
          "('Vermont', 52)",
          "('South Dakota', 21)",
          "('Montana', 31)",
          "('Nebraska', 51)",
          "('Utah', 141)",
          "('North Carolina', 300)",
          "('Missouri', 100)",
          "('Michigan', 1058)",
          "('Illinois', 1049)",
          "('Wisconsin', 381)",
          "('California', 1560)",
          "('Indiana', 201)",
          "('Tennessee', 376)",
          "('US', 1)",
          "('Texas', 618)",
          "('Oregon', 161)",
          "('Michigan', 1037)",
          "('California', 1585)",
          "('California', 1642)",
          "('New York', 15793)",
          "('Illinois', 1049)",
          "('Utah', 181)",
          "('North Carolina', 302)",
          "('South Carolina', 196)",
          "('Virginia', 221)",
          "('District of Columbia', 102)",
          "('Tennessee', 505)",
          "('Massachusetts', 646)",
          "('Texas', 627)",
          "('Ohio', 355)",
          "('Pennsylvania', 509)",
          "('Kansas', 64)",
          "('Washington', 1996)"
         ],
         "type": "scattermapbox"
        }
       ],
       "layout": {
        "autosize": true,
        "hovermode": "closest",
        "mapbox": {
         "accesstoken": "pk.eyJ1IjoicGxvdGx5bWFwYm94IiwiYSI6ImNqdnBvNDMyaTAxYzkzeW5ubWdpZ2VjbmMifQ.TXcBE-xg9BFdV2ocecc_7g",
         "bearing": 0,
         "center": {
          "lat": 38.7249,
          "lon": -95.61446
         },
         "pitch": 0,
         "style": "mapbox://styles/plotlymapbox/cjvprkf3t1kns1cqjxuxmwixz",
         "zoom": 3.5
        },
        "template": {
         "data": {
          "bar": [
           {
            "error_x": {
             "color": "#2a3f5f"
            },
            "error_y": {
             "color": "#2a3f5f"
            },
            "marker": {
             "line": {
              "color": "#E5ECF6",
              "width": 0.5
             }
            },
            "type": "bar"
           }
          ],
          "barpolar": [
           {
            "marker": {
             "line": {
              "color": "#E5ECF6",
              "width": 0.5
             }
            },
            "type": "barpolar"
           }
          ],
          "carpet": [
           {
            "aaxis": {
             "endlinecolor": "#2a3f5f",
             "gridcolor": "white",
             "linecolor": "white",
             "minorgridcolor": "white",
             "startlinecolor": "#2a3f5f"
            },
            "baxis": {
             "endlinecolor": "#2a3f5f",
             "gridcolor": "white",
             "linecolor": "white",
             "minorgridcolor": "white",
             "startlinecolor": "#2a3f5f"
            },
            "type": "carpet"
           }
          ],
          "choropleth": [
           {
            "colorbar": {
             "outlinewidth": 0,
             "ticks": ""
            },
            "type": "choropleth"
           }
          ],
          "contour": [
           {
            "colorbar": {
             "outlinewidth": 0,
             "ticks": ""
            },
            "colorscale": [
             [
              0,
              "#0d0887"
             ],
             [
              0.1111111111111111,
              "#46039f"
             ],
             [
              0.2222222222222222,
              "#7201a8"
             ],
             [
              0.3333333333333333,
              "#9c179e"
             ],
             [
              0.4444444444444444,
              "#bd3786"
             ],
             [
              0.5555555555555556,
              "#d8576b"
             ],
             [
              0.6666666666666666,
              "#ed7953"
             ],
             [
              0.7777777777777778,
              "#fb9f3a"
             ],
             [
              0.8888888888888888,
              "#fdca26"
             ],
             [
              1,
              "#f0f921"
             ]
            ],
            "type": "contour"
           }
          ],
          "contourcarpet": [
           {
            "colorbar": {
             "outlinewidth": 0,
             "ticks": ""
            },
            "type": "contourcarpet"
           }
          ],
          "heatmap": [
           {
            "colorbar": {
             "outlinewidth": 0,
             "ticks": ""
            },
            "colorscale": [
             [
              0,
              "#0d0887"
             ],
             [
              0.1111111111111111,
              "#46039f"
             ],
             [
              0.2222222222222222,
              "#7201a8"
             ],
             [
              0.3333333333333333,
              "#9c179e"
             ],
             [
              0.4444444444444444,
              "#bd3786"
             ],
             [
              0.5555555555555556,
              "#d8576b"
             ],
             [
              0.6666666666666666,
              "#ed7953"
             ],
             [
              0.7777777777777778,
              "#fb9f3a"
             ],
             [
              0.8888888888888888,
              "#fdca26"
             ],
             [
              1,
              "#f0f921"
             ]
            ],
            "type": "heatmap"
           }
          ],
          "heatmapgl": [
           {
            "colorbar": {
             "outlinewidth": 0,
             "ticks": ""
            },
            "colorscale": [
             [
              0,
              "#0d0887"
             ],
             [
              0.1111111111111111,
              "#46039f"
             ],
             [
              0.2222222222222222,
              "#7201a8"
             ],
             [
              0.3333333333333333,
              "#9c179e"
             ],
             [
              0.4444444444444444,
              "#bd3786"
             ],
             [
              0.5555555555555556,
              "#d8576b"
             ],
             [
              0.6666666666666666,
              "#ed7953"
             ],
             [
              0.7777777777777778,
              "#fb9f3a"
             ],
             [
              0.8888888888888888,
              "#fdca26"
             ],
             [
              1,
              "#f0f921"
             ]
            ],
            "type": "heatmapgl"
           }
          ],
          "histogram": [
           {
            "marker": {
             "colorbar": {
              "outlinewidth": 0,
              "ticks": ""
             }
            },
            "type": "histogram"
           }
          ],
          "histogram2d": [
           {
            "colorbar": {
             "outlinewidth": 0,
             "ticks": ""
            },
            "colorscale": [
             [
              0,
              "#0d0887"
             ],
             [
              0.1111111111111111,
              "#46039f"
             ],
             [
              0.2222222222222222,
              "#7201a8"
             ],
             [
              0.3333333333333333,
              "#9c179e"
             ],
             [
              0.4444444444444444,
              "#bd3786"
             ],
             [
              0.5555555555555556,
              "#d8576b"
             ],
             [
              0.6666666666666666,
              "#ed7953"
             ],
             [
              0.7777777777777778,
              "#fb9f3a"
             ],
             [
              0.8888888888888888,
              "#fdca26"
             ],
             [
              1,
              "#f0f921"
             ]
            ],
            "type": "histogram2d"
           }
          ],
          "histogram2dcontour": [
           {
            "colorbar": {
             "outlinewidth": 0,
             "ticks": ""
            },
            "colorscale": [
             [
              0,
              "#0d0887"
             ],
             [
              0.1111111111111111,
              "#46039f"
             ],
             [
              0.2222222222222222,
              "#7201a8"
             ],
             [
              0.3333333333333333,
              "#9c179e"
             ],
             [
              0.4444444444444444,
              "#bd3786"
             ],
             [
              0.5555555555555556,
              "#d8576b"
             ],
             [
              0.6666666666666666,
              "#ed7953"
             ],
             [
              0.7777777777777778,
              "#fb9f3a"
             ],
             [
              0.8888888888888888,
              "#fdca26"
             ],
             [
              1,
              "#f0f921"
             ]
            ],
            "type": "histogram2dcontour"
           }
          ],
          "mesh3d": [
           {
            "colorbar": {
             "outlinewidth": 0,
             "ticks": ""
            },
            "type": "mesh3d"
           }
          ],
          "parcoords": [
           {
            "line": {
             "colorbar": {
              "outlinewidth": 0,
              "ticks": ""
             }
            },
            "type": "parcoords"
           }
          ],
          "pie": [
           {
            "automargin": true,
            "type": "pie"
           }
          ],
          "scatter": [
           {
            "marker": {
             "colorbar": {
              "outlinewidth": 0,
              "ticks": ""
             }
            },
            "type": "scatter"
           }
          ],
          "scatter3d": [
           {
            "line": {
             "colorbar": {
              "outlinewidth": 0,
              "ticks": ""
             }
            },
            "marker": {
             "colorbar": {
              "outlinewidth": 0,
              "ticks": ""
             }
            },
            "type": "scatter3d"
           }
          ],
          "scattercarpet": [
           {
            "marker": {
             "colorbar": {
              "outlinewidth": 0,
              "ticks": ""
             }
            },
            "type": "scattercarpet"
           }
          ],
          "scattergeo": [
           {
            "marker": {
             "colorbar": {
              "outlinewidth": 0,
              "ticks": ""
             }
            },
            "type": "scattergeo"
           }
          ],
          "scattergl": [
           {
            "marker": {
             "colorbar": {
              "outlinewidth": 0,
              "ticks": ""
             }
            },
            "type": "scattergl"
           }
          ],
          "scattermapbox": [
           {
            "marker": {
             "colorbar": {
              "outlinewidth": 0,
              "ticks": ""
             }
            },
            "type": "scattermapbox"
           }
          ],
          "scatterpolar": [
           {
            "marker": {
             "colorbar": {
              "outlinewidth": 0,
              "ticks": ""
             }
            },
            "type": "scatterpolar"
           }
          ],
          "scatterpolargl": [
           {
            "marker": {
             "colorbar": {
              "outlinewidth": 0,
              "ticks": ""
             }
            },
            "type": "scatterpolargl"
           }
          ],
          "scatterternary": [
           {
            "marker": {
             "colorbar": {
              "outlinewidth": 0,
              "ticks": ""
             }
            },
            "type": "scatterternary"
           }
          ],
          "surface": [
           {
            "colorbar": {
             "outlinewidth": 0,
             "ticks": ""
            },
            "colorscale": [
             [
              0,
              "#0d0887"
             ],
             [
              0.1111111111111111,
              "#46039f"
             ],
             [
              0.2222222222222222,
              "#7201a8"
             ],
             [
              0.3333333333333333,
              "#9c179e"
             ],
             [
              0.4444444444444444,
              "#bd3786"
             ],
             [
              0.5555555555555556,
              "#d8576b"
             ],
             [
              0.6666666666666666,
              "#ed7953"
             ],
             [
              0.7777777777777778,
              "#fb9f3a"
             ],
             [
              0.8888888888888888,
              "#fdca26"
             ],
             [
              1,
              "#f0f921"
             ]
            ],
            "type": "surface"
           }
          ],
          "table": [
           {
            "cells": {
             "fill": {
              "color": "#EBF0F8"
             },
             "line": {
              "color": "white"
             }
            },
            "header": {
             "fill": {
              "color": "#C8D4E3"
             },
             "line": {
              "color": "white"
             }
            },
            "type": "table"
           }
          ]
         },
         "layout": {
          "annotationdefaults": {
           "arrowcolor": "#2a3f5f",
           "arrowhead": 0,
           "arrowwidth": 1
          },
          "coloraxis": {
           "colorbar": {
            "outlinewidth": 0,
            "ticks": ""
           }
          },
          "colorscale": {
           "diverging": [
            [
             0,
             "#8e0152"
            ],
            [
             0.1,
             "#c51b7d"
            ],
            [
             0.2,
             "#de77ae"
            ],
            [
             0.3,
             "#f1b6da"
            ],
            [
             0.4,
             "#fde0ef"
            ],
            [
             0.5,
             "#f7f7f7"
            ],
            [
             0.6,
             "#e6f5d0"
            ],
            [
             0.7,
             "#b8e186"
            ],
            [
             0.8,
             "#7fbc41"
            ],
            [
             0.9,
             "#4d9221"
            ],
            [
             1,
             "#276419"
            ]
           ],
           "sequential": [
            [
             0,
             "#0d0887"
            ],
            [
             0.1111111111111111,
             "#46039f"
            ],
            [
             0.2222222222222222,
             "#7201a8"
            ],
            [
             0.3333333333333333,
             "#9c179e"
            ],
            [
             0.4444444444444444,
             "#bd3786"
            ],
            [
             0.5555555555555556,
             "#d8576b"
            ],
            [
             0.6666666666666666,
             "#ed7953"
            ],
            [
             0.7777777777777778,
             "#fb9f3a"
            ],
            [
             0.8888888888888888,
             "#fdca26"
            ],
            [
             1,
             "#f0f921"
            ]
           ],
           "sequentialminus": [
            [
             0,
             "#0d0887"
            ],
            [
             0.1111111111111111,
             "#46039f"
            ],
            [
             0.2222222222222222,
             "#7201a8"
            ],
            [
             0.3333333333333333,
             "#9c179e"
            ],
            [
             0.4444444444444444,
             "#bd3786"
            ],
            [
             0.5555555555555556,
             "#d8576b"
            ],
            [
             0.6666666666666666,
             "#ed7953"
            ],
            [
             0.7777777777777778,
             "#fb9f3a"
            ],
            [
             0.8888888888888888,
             "#fdca26"
            ],
            [
             1,
             "#f0f921"
            ]
           ]
          },
          "colorway": [
           "#636efa",
           "#EF553B",
           "#00cc96",
           "#ab63fa",
           "#FFA15A",
           "#19d3f3",
           "#FF6692",
           "#B6E880",
           "#FF97FF",
           "#FECB52"
          ],
          "font": {
           "color": "#2a3f5f"
          },
          "geo": {
           "bgcolor": "white",
           "lakecolor": "white",
           "landcolor": "#E5ECF6",
           "showlakes": true,
           "showland": true,
           "subunitcolor": "white"
          },
          "hoverlabel": {
           "align": "left"
          },
          "hovermode": "closest",
          "mapbox": {
           "style": "light"
          },
          "paper_bgcolor": "white",
          "plot_bgcolor": "#E5ECF6",
          "polar": {
           "angularaxis": {
            "gridcolor": "white",
            "linecolor": "white",
            "ticks": ""
           },
           "bgcolor": "#E5ECF6",
           "radialaxis": {
            "gridcolor": "white",
            "linecolor": "white",
            "ticks": ""
           }
          },
          "scene": {
           "xaxis": {
            "backgroundcolor": "#E5ECF6",
            "gridcolor": "white",
            "gridwidth": 2,
            "linecolor": "white",
            "showbackground": true,
            "ticks": "",
            "zerolinecolor": "white"
           },
           "yaxis": {
            "backgroundcolor": "#E5ECF6",
            "gridcolor": "white",
            "gridwidth": 2,
            "linecolor": "white",
            "showbackground": true,
            "ticks": "",
            "zerolinecolor": "white"
           },
           "zaxis": {
            "backgroundcolor": "#E5ECF6",
            "gridcolor": "white",
            "gridwidth": 2,
            "linecolor": "white",
            "showbackground": true,
            "ticks": "",
            "zerolinecolor": "white"
           }
          },
          "shapedefaults": {
           "line": {
            "color": "#2a3f5f"
           }
          },
          "ternary": {
           "aaxis": {
            "gridcolor": "white",
            "linecolor": "white",
            "ticks": ""
           },
           "baxis": {
            "gridcolor": "white",
            "linecolor": "white",
            "ticks": ""
           },
           "bgcolor": "#E5ECF6",
           "caxis": {
            "gridcolor": "white",
            "linecolor": "white",
            "ticks": ""
           }
          },
          "title": {
           "x": 0.05
          },
          "xaxis": {
           "automargin": true,
           "gridcolor": "white",
           "linecolor": "white",
           "ticks": "",
           "title": {
            "standoff": 15
           },
           "zerolinecolor": "white",
           "zerolinewidth": 2
          },
          "yaxis": {
           "automargin": true,
           "gridcolor": "white",
           "linecolor": "white",
           "ticks": "",
           "title": {
            "standoff": 15
           },
           "zerolinecolor": "white",
           "zerolinewidth": 2
          }
         }
        }
       }
      },
      "text/html": [
       "<div>\n",
       "        \n",
       "        \n",
       "            <div id=\"ba101251-e0e3-43c5-8f70-bc98991d0720\" class=\"plotly-graph-div\" style=\"height:525px; width:100%;\"></div>\n",
       "            <script type=\"text/javascript\">\n",
       "                require([\"plotly\"], function(Plotly) {\n",
       "                    window.PLOTLYENV=window.PLOTLYENV || {};\n",
       "                    \n",
       "                if (document.getElementById(\"ba101251-e0e3-43c5-8f70-bc98991d0720\")) {\n",
       "                    Plotly.newPlot(\n",
       "                        'ba101251-e0e3-43c5-8f70-bc98991d0720',\n",
       "                        [{\"lat\": [18.3358, 44.2998, 32.7416, 13.4443, 61.3707, 44.6939, 45.6945, 41.6809, 35.5653, 37.6489, 42.0115, 35.4437, 40.3495, 40.2989, 44.572, 41.1254, 34.8405, 44.0459, 18.2208, 37.0902, 47.4009, 39.0598, 42.2302, 43.4525, 40.15, 47.5289, 32.3182, 41.5978, 38.8974, 42.756, 34.9697, 37.6681, 38.3135, 27.7663, 44.2405, 40.3888, 31.0545, 46.9219, 40.5908, 33.0406, 21.0943, 38.5266, 39.3185, 38.4561, 38.4912, 33.8569, 37.7693, 44.2685, 39.0639, 33.7298, 36.1162, 39.8494, 35.7478, 31.1695, 35.6301, 42.1657, 43.3266, 32.7416, 36.1162, 27.7663, 45.6945, 31.0545, 40.5908, 33.0406, 44.572, 35.6301, 35.7478, 42.1657, 32.3182, 42.0115, 13.4443, 61.3707, 36.1162, 35.5653, 42.756, 45.6945, 46.9219, 40.5908, 33.0406, 18.2208, 41.1254, 38.5266, 33.7298, 18.3358, 38.4561, 42.1657, 36.1162, 42.756, 39.3185, 35.6301, 43.3266, 42.0115, 37.7693, 41.6809, 36.1162, 39.8494, 40.2989, 37.0902, 40.3888, 45.6945, 31.0545, 40.5908, 18.2208, 42.1657, 43.3266, 36.1162, 47.4009, 40.15, 33.8569, 34.9697, 37.6681, 31.0545, 40.5908, 33.7298, 39.3185, 35.6301, 35.7478, 32.3182, 61.3707, 40.3495, 44.2685, 39.8494, 39.0598, 27.7663, 44.6939, 39.0639, 42.2302, 47.5289, 44.572, 38.5266, 37.0902, 42.1657, 36.1162, 41.5978, 38.3135, 39.0598, 27.7663, 42.2302, 31.0545, 45.6945, 40.5908, 33.0406, 44.572, 31.1695, 35.6301, 33.8569, 43.3266, 35.6301, 38.4912, 38.4561, 44.0459, 42.1657, 42.0115, 43.3266, 38.8974, 61.3707, 38.3135, 36.1162, 44.2405, 31.0545, 46.9219, 21.0943, 43.4525, 34.8405, 33.7298, 42.2302, 39.0639, 31.0545, 40.5908, 18.2208, 37.7693, 41.5978, 38.4561, 39.8494, 44.572, 35.6301, 42.1657, 37.6489, 43.3266, 36.1162, 38.5266, 40.3888, 13.4443, 61.3707, 42.1657, 37.7693, 32.7416, 36.1162, 39.0598, 35.7478, 27.7663, 31.0545, 40.5908, 33.0406, 31.1695, 35.6301, 33.7298, 39.3185, 42.0115, 32.3182, 13.4443, 38.8974, 37.6681, 35.5653, 44.6939, 45.6945, 42.1657, 42.756, 41.6809, 44.2685, 36.1162, 39.8494, 34.9697, 38.3135, 35.7478, 40.3888, 31.0545, 40.2989, 44.572, 33.7298, 40.15, 35.6301, 38.4561, 42.1657, 43.3266, 42.0115, 44.0459, 44.2998, 46.9219, 41.1254, 40.15, 35.6301, 38.4561, 43.3266, 40.3495, 44.2685, 36.1162, 39.8494, 35.7478, 37.0902, 31.0545, 44.572, 43.3266, 36.1162, 36.1162, 42.1657, 40.3495, 40.15, 35.6301, 33.8569, 37.7693, 38.8974, 35.7478, 42.2302, 31.0545, 40.3888, 40.5908, 38.5266, 47.4009], \"lon\": [-64.8963, -99.4388, -89.6787, 144.794, -152.404, -69.3819, -93.9002, -71.5118, -96.9289, -122.665, -93.2105, 139.638, -88.9861, -74.521, -122.071, -98.2681, -106.248, -72.7107, -66.5901, -95.7129, -121.49, -105.311, -71.5301, -71.5639, -111.862, -99.784, -86.9023, -72.7554, -77.0268, -107.302, -92.3731, -84.6701, -117.055, -81.6868, -114.479, -82.7649, -97.5635, -110.454, -77.2098, -83.6431, -157.498, -96.7265, -75.5071, -92.2884, -80.9545, -80.945, -78.17, -89.6165, -76.8021, -111.431, -119.682, -86.2583, -86.6923, -91.8678, -79.8064, -74.9481, -84.5361, -89.6787, -119.682, -81.6868, -93.9002, -97.5635, -77.2098, -83.6431, -122.071, -79.8064, -86.6923, -74.9481, -86.9023, -93.2105, 144.794, -152.404, -119.682, -96.9289, -107.302, -93.9002, -110.454, -77.2098, -83.6431, -66.5901, -98.2681, -96.7265, -111.431, -64.8963, -92.2884, -74.9481, -119.682, -107.302, -75.5071, -79.8064, -84.5361, -93.2105, -78.17, -71.5118, -119.682, -86.2583, -74.521, -95.7129, -82.7649, -93.9002, -97.5635, -77.2098, -66.5901, -74.9481, -84.5361, -119.682, -121.49, -111.862, -80.945, -92.3731, -84.6701, -97.5635, -77.2098, -111.431, -75.5071, -79.8064, -86.6923, -86.9023, -152.404, -88.9861, -89.6165, -86.2583, -105.311, -81.6868, -69.3819, -76.8021, -71.5301, -99.784, -122.071, -96.7265, -95.7129, -74.9481, -119.682, -72.7554, -117.055, -105.311, -81.6868, -71.5301, -97.5635, -93.9002, -77.2098, -83.6431, -122.071, -91.8678, -79.8064, -80.945, -84.5361, -79.8064, -80.9545, -92.2884, -72.7107, -74.9481, -93.2105, -84.5361, -77.0268, -152.404, -117.055, -119.682, -114.479, -97.5635, -110.454, -157.498, -71.5639, -106.248, -111.431, -71.5301, -76.8021, -97.5635, -77.2098, -66.5901, -78.17, -72.7554, -92.2884, -86.2583, -122.071, -79.8064, -74.9481, -122.665, -84.5361, -119.682, -96.7265, -82.7649, 144.794, -152.404, -74.9481, -78.17, -89.6787, -119.682, -105.311, -86.6923, -81.6868, -97.5635, -77.2098, -83.6431, -91.8678, -79.8064, -111.431, -75.5071, -93.2105, -86.9023, 144.794, -77.0268, -84.6701, -96.9289, -69.3819, -93.9002, -74.9481, -107.302, -71.5118, -89.6165, -119.682, -86.2583, -92.3731, -117.055, -86.6923, -82.7649, -97.5635, -74.521, -122.071, -111.431, -111.862, -79.8064, -92.2884, -74.9481, -84.5361, -93.2105, -72.7107, -99.4388, -110.454, -98.2681, -111.862, -79.8064, -92.2884, -84.5361, -88.9861, -89.6165, -119.682, -86.2583, -86.6923, -95.7129, -97.5635, -122.071, -84.5361, -119.682, -119.682, -74.9481, -88.9861, -111.862, -79.8064, -80.945, -78.17, -77.0268, -86.6923, -71.5301, -97.5635, -82.7649, -77.2098, -96.7265, -121.49], \"mode\": \"markers\", \"text\": [\"('United States Virgin Islands', 3)\", \"('South Dakota', 14)\", \"('Mississippi', 80)\", \"('Guam', 14)\", \"('Alaska', 12)\", \"('Maine', 56)\", \"('Minnesota', 115)\", \"('Rhode Island', 54)\", \"('Oklahoma', 49)\", \"('Grand Princess', 23)\", \"('Iowa', 45)\", \"('Diamond Princess', 49)\", \"('Illinois', 585)\", \"('New Jersey', 890)\", \"('Oregon', 114)\", \"('Nebraska', 37)\", \"('New Mexico', 43)\", \"('Vermont', 29)\", \"('Puerto Rico', 14)\", \"('US', 1)\", \"('Washington', 1524)\", \"('Colorado', 363)\", \"('Massachusetts', 413)\", \"('New Hampshire', 55)\", \"('Utah', 112)\", \"('North Dakota', 26)\", \"('Alabama', 106)\", \"('Connecticut', 194)\", \"('District of Columbia', 77)\", \"('Wyoming', 21)\", \"('Arkansas', 100)\", \"('Kentucky', 64)\", \"('Nevada', 161)\", \"('Florida', 563)\", \"('Idaho', 36)\", \"('Ohio', 174)\", \"('Texas', 429)\", \"('Montana', 20)\", \"('Pennsylvania', 311)\", \"('Georgia', 485)\", \"('Hawaii', 37)\", \"('Kansas', 48)\", \"('Delaware', 39)\", \"('Missouri', 66)\", \"('West Virginia', 8)\", \"('South Carolina', 126)\", \"('Virginia', 125)\", \"('Wisconsin', 220)\", \"('Maryland', 190)\", \"('Arizona', 79)\", \"('California', 1249)\", \"('Indiana', 127)\", \"('Tennessee', 265)\", \"('Louisiana', 585)\", \"('North Carolina', 230)\", \"('New York', 8522)\", \"('Michigan', 554)\", \"('Mississippi', 140)\", \"('California', 1267)\", \"('Florida', 659)\", \"('Minnesota', 136)\", \"('Texas', 434)\", \"('Pennsylvania', 314)\", \"('Georgia', 496)\", \"('Oregon', 114)\", \"('North Carolina', 241)\", \"('Tennessee', 300)\", \"('New York', 10356)\", \"('Alabama', 124)\", \"('Iowa', 46)\", \"('Guam', 15)\", \"('Alaska', 14)\", \"('California', 1268)\", \"('Oklahoma', 53)\", \"('Wyoming', 22)\", \"('Minnesota', 138)\", \"('Montana', 21)\", \"('Pennsylvania', 374)\", \"('Georgia', 507)\", \"('Puerto Rico', 21)\", \"('Nebraska', 38)\", \"('Kansas', 50)\", \"('Arizona', 108)\", \"('United States Virgin Islands', 6)\", \"('Missouri', 74)\", \"('New York', 11645)\", \"('California', 1282)\", \"('Wyoming', 23)\", \"('Delaware', 40)\", \"('North Carolina', 242)\", \"('Michigan', 568)\", \"('Iowa', 68)\", \"('Virginia', 156)\", \"('Rhode Island', 66)\", \"('California', 1283)\", \"('Indiana', 128)\", \"('New Jersey', 1327)\", \"('US', 1)\", \"('Ohio', 248)\", \"('Minnesota', 138)\", \"('Texas', 487)\", \"('Pennsylvania', 394)\", \"('Puerto Rico', 21)\", \"('New York', 11710)\", \"('Michigan', 788)\", \"('California', 1364)\", \"('Washington', 1793)\", \"('Utah', 136)\", \"('South Carolina', 171)\", \"('Arkansas', 122)\", \"('Kentucky', 87)\", \"('Texas', 581)\", \"('Pennsylvania', 396)\", \"('Arizona', 118)\", \"('Delaware', 45)\", \"('North Carolina', 253)\", \"('Tennessee', 371)\", \"('Alabama', 131)\", \"('Alaska', 15)\", \"('Illinois', 753)\", \"('Wisconsin', 282)\", \"('Indiana', 128)\", \"('Colorado', 390)\", \"('Florida', 659)\", \"('Maine', 70)\", \"('Maryland', 193)\", \"('Massachusetts', 525)\", \"('North Dakota', 28)\", \"('Oregon', 114)\", \"('Kansas', 57)\", \"('US', 1)\", \"('New York', 12312)\", \"('California', 1407)\", \"('Connecticut', 223)\", \"('Nevada', 154)\", \"('Colorado', 475)\", \"('Florida', 763)\", \"('Massachusetts', 529)\", \"('Texas', 543)\", \"('Minnesota', 137)\", \"('Pennsylvania', 399)\", \"('Georgia', 555)\", \"('Oregon', 137)\", \"('Louisiana', 763)\", \"('North Carolina', 257)\", \"('South Carolina', 174)\", \"('Michigan', 789)\", \"('North Carolina', 261)\", \"('West Virginia', 12)\", \"('Missouri', 81)\", \"('Vermont', 49)\", \"('New York', 12315)\", \"('Iowa', 69)\", \"('Michigan', 790)\", \"('District of Columbia', 98)\", \"('Alaska', 14)\", \"('Nevada', 157)\", \"('California', 1470)\", \"('Idaho', 42)\", \"('Texas', 554)\", \"('Montana', 30)\", \"('Hawaii', 48)\", \"('New Hampshire', 65)\", \"('New Mexico', 57)\", \"('Arizona', 104)\", \"('Massachusetts', 529)\", \"('Maryland', 244)\", \"('Texas', 557)\", \"('Pennsylvania', 405)\", \"('Puerto Rico', 23)\", \"('Virginia', 159)\", \"('Connecticut', 223)\", \"('Missouri', 86)\", \"('Indiana', 201)\", \"('Oregon', 137)\", \"('North Carolina', 283)\", \"('New York', 12323)\", \"('Grand Princess', 30)\", \"('Michigan', 809)\", \"('California', 1518)\", \"('Kansas', 58)\", \"('Ohio', 250)\", \"('Guam', 15)\", \"('Alaska', 21)\", \"('New York', 15168)\", \"('Virginia', 221)\", \"('Mississippi', 207)\", \"('California', 1547)\", \"('Colorado', 476)\", \"('Tennessee', 374)\", \"('Florida', 830)\", \"('Texas', 566)\", \"('Pennsylvania', 481)\", \"('Georgia', 600)\", \"('Louisiana', 837)\", \"('North Carolina', 286)\", \"('Arizona', 152)\", \"('Delaware', 47)\", \"('Iowa', 75)\", \"('Alabama', 138)\", \"('Guam', 27)\", \"('District of Columbia', 102)\", \"('Kentucky', 99)\", \"('Oklahoma', 67)\", \"('Maine', 89)\", \"('Minnesota', 169)\", \"('New York', 15783)\", \"('Wyoming', 24)\", \"('Rhode Island', 83)\", \"('Wisconsin', 322)\", \"('California', 1554)\", \"('Indiana', 201)\", \"('Arkansas', 165)\", \"('Nevada', 190)\", \"('Tennessee', 374)\", \"('Ohio', 352)\", \"('Texas', 616)\", \"('New Jersey', 1914)\", \"('Oregon', 140)\", \"('Arizona', 152)\", \"('Utah', 136)\", \"('North Carolina', 295)\", \"('Missouri', 96)\", \"('New York', 15777)\", \"('Michigan', 899)\", \"('Iowa', 90)\", \"('Vermont', 52)\", \"('South Dakota', 21)\", \"('Montana', 31)\", \"('Nebraska', 51)\", \"('Utah', 141)\", \"('North Carolina', 300)\", \"('Missouri', 100)\", \"('Michigan', 1058)\", \"('Illinois', 1049)\", \"('Wisconsin', 381)\", \"('California', 1560)\", \"('Indiana', 201)\", \"('Tennessee', 376)\", \"('US', 1)\", \"('Texas', 618)\", \"('Oregon', 161)\", \"('Michigan', 1037)\", \"('California', 1585)\", \"('California', 1642)\", \"('New York', 15793)\", \"('Illinois', 1049)\", \"('Utah', 181)\", \"('North Carolina', 302)\", \"('South Carolina', 196)\", \"('Virginia', 221)\", \"('District of Columbia', 102)\", \"('Tennessee', 505)\", \"('Massachusetts', 646)\", \"('Texas', 627)\", \"('Ohio', 355)\", \"('Pennsylvania', 509)\", \"('Kansas', 64)\", \"('Washington', 1996)\"], \"type\": \"scattermapbox\"}],\n",
       "                        {\"autosize\": true, \"hovermode\": \"closest\", \"mapbox\": {\"accesstoken\": \"pk.eyJ1IjoicGxvdGx5bWFwYm94IiwiYSI6ImNqdnBvNDMyaTAxYzkzeW5ubWdpZ2VjbmMifQ.TXcBE-xg9BFdV2ocecc_7g\", \"bearing\": 0, \"center\": {\"lat\": 38.7249, \"lon\": -95.61446}, \"pitch\": 0, \"style\": \"mapbox://styles/plotlymapbox/cjvprkf3t1kns1cqjxuxmwixz\", \"zoom\": 3.5}, \"template\": {\"data\": {\"bar\": [{\"error_x\": {\"color\": \"#2a3f5f\"}, \"error_y\": {\"color\": \"#2a3f5f\"}, \"marker\": {\"line\": {\"color\": \"#E5ECF6\", \"width\": 0.5}}, \"type\": \"bar\"}], \"barpolar\": [{\"marker\": {\"line\": {\"color\": \"#E5ECF6\", \"width\": 0.5}}, \"type\": \"barpolar\"}], \"carpet\": [{\"aaxis\": {\"endlinecolor\": \"#2a3f5f\", \"gridcolor\": \"white\", \"linecolor\": \"white\", \"minorgridcolor\": \"white\", \"startlinecolor\": \"#2a3f5f\"}, \"baxis\": {\"endlinecolor\": \"#2a3f5f\", \"gridcolor\": \"white\", \"linecolor\": \"white\", \"minorgridcolor\": \"white\", \"startlinecolor\": \"#2a3f5f\"}, \"type\": \"carpet\"}], \"choropleth\": [{\"colorbar\": {\"outlinewidth\": 0, \"ticks\": \"\"}, \"type\": \"choropleth\"}], \"contour\": [{\"colorbar\": {\"outlinewidth\": 0, \"ticks\": \"\"}, \"colorscale\": [[0.0, \"#0d0887\"], [0.1111111111111111, \"#46039f\"], [0.2222222222222222, \"#7201a8\"], [0.3333333333333333, \"#9c179e\"], [0.4444444444444444, \"#bd3786\"], [0.5555555555555556, \"#d8576b\"], [0.6666666666666666, \"#ed7953\"], [0.7777777777777778, \"#fb9f3a\"], [0.8888888888888888, \"#fdca26\"], [1.0, \"#f0f921\"]], \"type\": \"contour\"}], \"contourcarpet\": [{\"colorbar\": {\"outlinewidth\": 0, \"ticks\": \"\"}, \"type\": \"contourcarpet\"}], \"heatmap\": [{\"colorbar\": {\"outlinewidth\": 0, \"ticks\": \"\"}, \"colorscale\": [[0.0, \"#0d0887\"], [0.1111111111111111, \"#46039f\"], [0.2222222222222222, \"#7201a8\"], [0.3333333333333333, \"#9c179e\"], [0.4444444444444444, \"#bd3786\"], [0.5555555555555556, \"#d8576b\"], [0.6666666666666666, \"#ed7953\"], [0.7777777777777778, \"#fb9f3a\"], [0.8888888888888888, \"#fdca26\"], [1.0, \"#f0f921\"]], \"type\": \"heatmap\"}], \"heatmapgl\": [{\"colorbar\": {\"outlinewidth\": 0, \"ticks\": \"\"}, \"colorscale\": [[0.0, \"#0d0887\"], [0.1111111111111111, \"#46039f\"], [0.2222222222222222, \"#7201a8\"], [0.3333333333333333, \"#9c179e\"], [0.4444444444444444, \"#bd3786\"], [0.5555555555555556, \"#d8576b\"], [0.6666666666666666, \"#ed7953\"], [0.7777777777777778, \"#fb9f3a\"], [0.8888888888888888, \"#fdca26\"], [1.0, \"#f0f921\"]], \"type\": \"heatmapgl\"}], \"histogram\": [{\"marker\": {\"colorbar\": {\"outlinewidth\": 0, \"ticks\": \"\"}}, \"type\": \"histogram\"}], \"histogram2d\": [{\"colorbar\": {\"outlinewidth\": 0, \"ticks\": \"\"}, \"colorscale\": [[0.0, \"#0d0887\"], [0.1111111111111111, \"#46039f\"], [0.2222222222222222, \"#7201a8\"], [0.3333333333333333, \"#9c179e\"], [0.4444444444444444, \"#bd3786\"], [0.5555555555555556, \"#d8576b\"], [0.6666666666666666, \"#ed7953\"], [0.7777777777777778, \"#fb9f3a\"], [0.8888888888888888, \"#fdca26\"], [1.0, \"#f0f921\"]], \"type\": \"histogram2d\"}], \"histogram2dcontour\": [{\"colorbar\": {\"outlinewidth\": 0, \"ticks\": \"\"}, \"colorscale\": [[0.0, \"#0d0887\"], [0.1111111111111111, \"#46039f\"], [0.2222222222222222, \"#7201a8\"], [0.3333333333333333, \"#9c179e\"], [0.4444444444444444, \"#bd3786\"], [0.5555555555555556, \"#d8576b\"], [0.6666666666666666, \"#ed7953\"], [0.7777777777777778, \"#fb9f3a\"], [0.8888888888888888, \"#fdca26\"], [1.0, \"#f0f921\"]], \"type\": \"histogram2dcontour\"}], \"mesh3d\": [{\"colorbar\": {\"outlinewidth\": 0, \"ticks\": \"\"}, \"type\": \"mesh3d\"}], \"parcoords\": [{\"line\": {\"colorbar\": {\"outlinewidth\": 0, \"ticks\": \"\"}}, \"type\": \"parcoords\"}], \"pie\": [{\"automargin\": true, \"type\": \"pie\"}], \"scatter\": [{\"marker\": {\"colorbar\": {\"outlinewidth\": 0, \"ticks\": \"\"}}, \"type\": \"scatter\"}], \"scatter3d\": [{\"line\": {\"colorbar\": {\"outlinewidth\": 0, \"ticks\": \"\"}}, \"marker\": {\"colorbar\": {\"outlinewidth\": 0, \"ticks\": \"\"}}, \"type\": \"scatter3d\"}], \"scattercarpet\": [{\"marker\": {\"colorbar\": {\"outlinewidth\": 0, \"ticks\": \"\"}}, \"type\": \"scattercarpet\"}], \"scattergeo\": [{\"marker\": {\"colorbar\": {\"outlinewidth\": 0, \"ticks\": \"\"}}, \"type\": \"scattergeo\"}], \"scattergl\": [{\"marker\": {\"colorbar\": {\"outlinewidth\": 0, \"ticks\": \"\"}}, \"type\": \"scattergl\"}], \"scattermapbox\": [{\"marker\": {\"colorbar\": {\"outlinewidth\": 0, \"ticks\": \"\"}}, \"type\": \"scattermapbox\"}], \"scatterpolar\": [{\"marker\": {\"colorbar\": {\"outlinewidth\": 0, \"ticks\": \"\"}}, \"type\": \"scatterpolar\"}], \"scatterpolargl\": [{\"marker\": {\"colorbar\": {\"outlinewidth\": 0, \"ticks\": \"\"}}, \"type\": \"scatterpolargl\"}], \"scatterternary\": [{\"marker\": {\"colorbar\": {\"outlinewidth\": 0, \"ticks\": \"\"}}, \"type\": \"scatterternary\"}], \"surface\": [{\"colorbar\": {\"outlinewidth\": 0, \"ticks\": \"\"}, \"colorscale\": [[0.0, \"#0d0887\"], [0.1111111111111111, \"#46039f\"], [0.2222222222222222, \"#7201a8\"], [0.3333333333333333, \"#9c179e\"], [0.4444444444444444, \"#bd3786\"], [0.5555555555555556, \"#d8576b\"], [0.6666666666666666, \"#ed7953\"], [0.7777777777777778, \"#fb9f3a\"], [0.8888888888888888, \"#fdca26\"], [1.0, \"#f0f921\"]], \"type\": \"surface\"}], \"table\": [{\"cells\": {\"fill\": {\"color\": \"#EBF0F8\"}, \"line\": {\"color\": \"white\"}}, \"header\": {\"fill\": {\"color\": \"#C8D4E3\"}, \"line\": {\"color\": \"white\"}}, \"type\": \"table\"}]}, \"layout\": {\"annotationdefaults\": {\"arrowcolor\": \"#2a3f5f\", \"arrowhead\": 0, \"arrowwidth\": 1}, \"coloraxis\": {\"colorbar\": {\"outlinewidth\": 0, \"ticks\": \"\"}}, \"colorscale\": {\"diverging\": [[0, \"#8e0152\"], [0.1, \"#c51b7d\"], [0.2, \"#de77ae\"], [0.3, \"#f1b6da\"], [0.4, \"#fde0ef\"], [0.5, \"#f7f7f7\"], [0.6, \"#e6f5d0\"], [0.7, \"#b8e186\"], [0.8, \"#7fbc41\"], [0.9, \"#4d9221\"], [1, \"#276419\"]], \"sequential\": [[0.0, \"#0d0887\"], [0.1111111111111111, \"#46039f\"], [0.2222222222222222, \"#7201a8\"], [0.3333333333333333, \"#9c179e\"], [0.4444444444444444, \"#bd3786\"], [0.5555555555555556, \"#d8576b\"], [0.6666666666666666, \"#ed7953\"], [0.7777777777777778, \"#fb9f3a\"], [0.8888888888888888, \"#fdca26\"], [1.0, \"#f0f921\"]], \"sequentialminus\": [[0.0, \"#0d0887\"], [0.1111111111111111, \"#46039f\"], [0.2222222222222222, \"#7201a8\"], [0.3333333333333333, \"#9c179e\"], [0.4444444444444444, \"#bd3786\"], [0.5555555555555556, \"#d8576b\"], [0.6666666666666666, \"#ed7953\"], [0.7777777777777778, \"#fb9f3a\"], [0.8888888888888888, \"#fdca26\"], [1.0, \"#f0f921\"]]}, \"colorway\": [\"#636efa\", \"#EF553B\", \"#00cc96\", \"#ab63fa\", \"#FFA15A\", \"#19d3f3\", \"#FF6692\", \"#B6E880\", \"#FF97FF\", \"#FECB52\"], \"font\": {\"color\": \"#2a3f5f\"}, \"geo\": {\"bgcolor\": \"white\", \"lakecolor\": \"white\", \"landcolor\": \"#E5ECF6\", \"showlakes\": true, \"showland\": true, \"subunitcolor\": \"white\"}, \"hoverlabel\": {\"align\": \"left\"}, \"hovermode\": \"closest\", \"mapbox\": {\"style\": \"light\"}, \"paper_bgcolor\": \"white\", \"plot_bgcolor\": \"#E5ECF6\", \"polar\": {\"angularaxis\": {\"gridcolor\": \"white\", \"linecolor\": \"white\", \"ticks\": \"\"}, \"bgcolor\": \"#E5ECF6\", \"radialaxis\": {\"gridcolor\": \"white\", \"linecolor\": \"white\", \"ticks\": \"\"}}, \"scene\": {\"xaxis\": {\"backgroundcolor\": \"#E5ECF6\", \"gridcolor\": \"white\", \"gridwidth\": 2, \"linecolor\": \"white\", \"showbackground\": true, \"ticks\": \"\", \"zerolinecolor\": \"white\"}, \"yaxis\": {\"backgroundcolor\": \"#E5ECF6\", \"gridcolor\": \"white\", \"gridwidth\": 2, \"linecolor\": \"white\", \"showbackground\": true, \"ticks\": \"\", \"zerolinecolor\": \"white\"}, \"zaxis\": {\"backgroundcolor\": \"#E5ECF6\", \"gridcolor\": \"white\", \"gridwidth\": 2, \"linecolor\": \"white\", \"showbackground\": true, \"ticks\": \"\", \"zerolinecolor\": \"white\"}}, \"shapedefaults\": {\"line\": {\"color\": \"#2a3f5f\"}}, \"ternary\": {\"aaxis\": {\"gridcolor\": \"white\", \"linecolor\": \"white\", \"ticks\": \"\"}, \"baxis\": {\"gridcolor\": \"white\", \"linecolor\": \"white\", \"ticks\": \"\"}, \"bgcolor\": \"#E5ECF6\", \"caxis\": {\"gridcolor\": \"white\", \"linecolor\": \"white\", \"ticks\": \"\"}}, \"title\": {\"x\": 0.05}, \"xaxis\": {\"automargin\": true, \"gridcolor\": \"white\", \"linecolor\": \"white\", \"ticks\": \"\", \"title\": {\"standoff\": 15}, \"zerolinecolor\": \"white\", \"zerolinewidth\": 2}, \"yaxis\": {\"automargin\": true, \"gridcolor\": \"white\", \"linecolor\": \"white\", \"ticks\": \"\", \"title\": {\"standoff\": 15}, \"zerolinecolor\": \"white\", \"zerolinewidth\": 2}}}},\n",
       "                        {\"responsive\": true}\n",
       "                    ).then(function(){\n",
       "                            \n",
       "var gd = document.getElementById('ba101251-e0e3-43c5-8f70-bc98991d0720');\n",
       "var x = new MutationObserver(function (mutations, observer) {{\n",
       "        var display = window.getComputedStyle(gd).display;\n",
       "        if (!display || display === 'none') {{\n",
       "            console.log([gd, 'removed!']);\n",
       "            Plotly.purge(gd);\n",
       "            observer.disconnect();\n",
       "        }}\n",
       "}});\n",
       "\n",
       "// Listen for the removal of the full notebook cells\n",
       "var notebookContainer = gd.closest('#notebook-container');\n",
       "if (notebookContainer) {{\n",
       "    x.observe(notebookContainer, {childList: true});\n",
       "}}\n",
       "\n",
       "// Listen for the clearing of the current output cell\n",
       "var outputEl = gd.closest('.output');\n",
       "if (outputEl) {{\n",
       "    x.observe(outputEl, {childList: true});\n",
       "}}\n",
       "\n",
       "                        })\n",
       "                };\n",
       "                });\n",
       "            </script>\n",
       "        </div>"
      ]
     },
     "metadata": {},
     "output_type": "display_data"
    }
   ],
   "source": [
    "fig.update_layout(\n",
    "    autosize=True,\n",
    "    hovermode='closest',\n",
    "    mapbox=dict(\n",
    "        accesstoken=mapbox_access_token,\n",
    "        bearing=0,\n",
    "        style=mapbox_style,\n",
    "        center=dict(\n",
    "            lat=38.72490, lon=-95.61446\n",
    "        ),\n",
    "        pitch=0,\n",
    "        zoom=3.5,\n",
    "    ),\n",
    ")\n",
    "\n",
    "fig.show()"
   ]
  },
  {
   "cell_type": "code",
   "execution_count": null,
   "metadata": {},
   "outputs": [],
   "source": []
  },
  {
   "cell_type": "code",
   "execution_count": null,
   "metadata": {},
   "outputs": [],
   "source": []
  },
  {
   "cell_type": "code",
   "execution_count": null,
   "metadata": {},
   "outputs": [],
   "source": []
  }
 ],
 "metadata": {
  "kernelspec": {
   "display_name": "Python 3",
   "language": "python",
   "name": "python3"
  },
  "language_info": {
   "codemirror_mode": {
    "name": "ipython",
    "version": 3
   },
   "file_extension": ".py",
   "mimetype": "text/x-python",
   "name": "python",
   "nbconvert_exporter": "python",
   "pygments_lexer": "ipython3",
   "version": "3.7.6"
  }
 },
 "nbformat": 4,
 "nbformat_minor": 4
}
